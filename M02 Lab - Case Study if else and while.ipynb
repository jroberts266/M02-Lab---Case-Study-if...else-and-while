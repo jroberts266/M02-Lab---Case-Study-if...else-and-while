{
 "cells": [
  {
   "cell_type": "code",
   "execution_count": 1,
   "id": "aca8164b",
   "metadata": {},
   "outputs": [
    {
     "name": "stdout",
     "output_type": "stream",
     "text": [
      "Enter students last name:Roberts\n",
      "Enter students first name: Joey\n",
      "Enter students GPA as a decimal: 4.0\n",
      "Joey Roberts  has made the Dean's List\n",
      "Enter students last name:Doe\n",
      "Enter students first name: John\n",
      "Enter students GPA as a decimal: 3.3\n",
      "John Doe has made the Honor Roll\n",
      "Enter students last name:Roberts\n",
      "Enter students first name: Emily\n",
      "Enter students GPA as a decimal: 3.6\n",
      "Emily Roberts  has made the Dean's List\n",
      "Enter students last name:Roberts\n",
      "Enter students first name: Karyn\n",
      "Enter students GPA as a decimal: 3.26\n",
      "Karyn Roberts has made the Honor Roll\n",
      "Enter students last name:Roberts\n",
      "Enter students first name: Annie\n",
      "Enter students GPA as a decimal: 3.2\n",
      "Enter students last name:ZZZ\n"
     ]
    }
   ],
   "source": [
    "# M02 Lab - Case Study: if...else and while\n",
    "# author: jdr\n",
    "# created: 2023-1-22  updated: 2022-01-14 (drm)\n",
    "# evalutes GPAs to see if student qualifies for Dean's List or Honor Roll\n",
    "\n",
    "lname = \"Trump\" # assigns a default value to lname variable\n",
    "fname = \"Donald\" # assigns a default value to fname variable\n",
    "GPA = 0 # assigns default value to GPA variable\n",
    "while True:\n",
    "    lname = input(\"Enter students last name:\") # Asks for students last name\n",
    "    if lname == \"ZZZ\": # Breaks loop if \"ZZZ\" is entered\n",
    "        break\n",
    "    fname = input(\"Enter students first name: \") # Asks for students first name\n",
    "    GPA = float(input(\"Enter students GPA as a decimal: \")) # Asks for GPA assigns the value as a float to GPA variable\n",
    "    # If statements to evaluate the entered GPA to determine if studnent made Honor Roll or Dean's List\n",
    "    if GPA >= 3.5:\n",
    "        print(fname, lname, \" has made the Dean's List\")\n",
    "    elif GPA >= 3.25:\n",
    "        print(fname, lname, \"has made the Honor Roll\")\n",
    "    "
   ]
  },
  {
   "cell_type": "code",
   "execution_count": null,
   "id": "50e78a8c",
   "metadata": {},
   "outputs": [],
   "source": []
  }
 ],
 "metadata": {
  "kernelspec": {
   "display_name": "Python 3 (ipykernel)",
   "language": "python",
   "name": "python3"
  },
  "language_info": {
   "codemirror_mode": {
    "name": "ipython",
    "version": 3
   },
   "file_extension": ".py",
   "mimetype": "text/x-python",
   "name": "python",
   "nbconvert_exporter": "python",
   "pygments_lexer": "ipython3",
   "version": "3.9.13"
  }
 },
 "nbformat": 4,
 "nbformat_minor": 5
}
